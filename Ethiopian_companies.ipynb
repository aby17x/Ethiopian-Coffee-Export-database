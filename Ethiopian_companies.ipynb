{
  "nbformat": 4,
  "nbformat_minor": 0,
  "metadata": {
    "colab": {
      "provenance": [],
      "authorship_tag": "ABX9TyOEuj3Daj3txBWl4FhDqCAU",
      "include_colab_link": true
    },
    "kernelspec": {
      "name": "python3",
      "display_name": "Python 3"
    },
    "language_info": {
      "name": "python"
    }
  },
  "cells": [
    {
      "cell_type": "markdown",
      "metadata": {
        "id": "view-in-github",
        "colab_type": "text"
      },
      "source": [
        "<a href=\"https://colab.research.google.com/github/aby17x/Ethiopian-Coffee-Export-database/blob/main/Ethiopian_companies.ipynb\" target=\"_parent\"><img src=\"https://colab.research.google.com/assets/colab-badge.svg\" alt=\"Open In Colab\"/></a>"
      ]
    },
    {
      "cell_type": "code",
      "execution_count": 2,
      "metadata": {
        "id": "EAYvjRL8S73F"
      },
      "outputs": [],
      "source": [
        "from bs4 import BeautifulSoup\n",
        "import requests"
      ]
    },
    {
      "cell_type": "code",
      "source": [
        "url = 'https://en.wikipedia.org/wiki/List_of_companies_of_Ethiopia'\n",
        "\n",
        "page =requests.get(url)\n",
        "\n",
        "soup = BeautifulSoup(page.text, 'html')"
      ],
      "metadata": {
        "id": "HigBW0jMTtqL"
      },
      "execution_count": 3,
      "outputs": []
    },
    {
      "cell_type": "code",
      "source": [
        "print(soup)"
      ],
      "metadata": {
        "id": "Iy-wMAlYUFTG"
      },
      "execution_count": null,
      "outputs": []
    },
    {
      "cell_type": "code",
      "source": [
        "soup.find('table')"
      ],
      "metadata": {
        "id": "VUlHKtogWiXC"
      },
      "execution_count": null,
      "outputs": []
    },
    {
      "cell_type": "code",
      "source": [
        "soup.find('table', class_ = 'wikitable sortable')"
      ],
      "metadata": {
        "id": "bnf3h9XuXn9W"
      },
      "execution_count": null,
      "outputs": []
    },
    {
      "cell_type": "code",
      "source": [
        "table = soup.find('table')"
      ],
      "metadata": {
        "id": "r3Xlj6QaZNCW"
      },
      "execution_count": 8,
      "outputs": []
    },
    {
      "cell_type": "code",
      "source": [
        "print(table)"
      ],
      "metadata": {
        "id": "CnMPLiRWZYts"
      },
      "execution_count": null,
      "outputs": []
    },
    {
      "cell_type": "code",
      "source": [
        "# Extracting only the text from th for the top 6 headers\n",
        "table_headers = soup.find_all('th')\n",
        "\n",
        "# Counter to keep track of the number of headers\n",
        "header_count = 0\n",
        "\n",
        "for th in table_headers:\n",
        "    th_text = th.get_text(strip=True)\n",
        "    print(th_text)\n",
        "\n",
        "\n",
        "    header_count += 1\n",
        "\n",
        "    # Break out of the loop after the 6th header\n",
        "    if header_count == 6:\n",
        "      break\n",
        "\n",
        "\n"
      ],
      "metadata": {
        "id": "2JKRw3zYZ7f2"
      },
      "execution_count": null,
      "outputs": []
    },
    {
      "cell_type": "code",
      "source": [
        "# Find the table\n",
        "table = soup.find('table', class_='wikitable')\n",
        "\n",
        "# Extract table headers\n",
        "headers = table.find_all('th')\n",
        "\n",
        "# Extract top 6 titles\n",
        "eth_table_titles = [header.text.strip() for header in headers[:6]]\n",
        "\n",
        "# Print the result\n",
        "print(eth_table_titles)\n"
      ],
      "metadata": {
        "id": "h0KP8fZSiGX0"
      },
      "execution_count": null,
      "outputs": []
    },
    {
      "cell_type": "code",
      "source": [
        "import pandas as pd"
      ],
      "metadata": {
        "id": "qfO_PiiYbBrR"
      },
      "execution_count": 12,
      "outputs": []
    },
    {
      "cell_type": "code",
      "source": [
        "df = pd.DataFrame(columns = eth_table_titles)\n",
        "df"
      ],
      "metadata": {
        "id": "cfYxZIXDguge"
      },
      "execution_count": null,
      "outputs": []
    },
    {
      "cell_type": "code",
      "source": [
        "column_data = table.find_all('tr')"
      ],
      "metadata": {
        "id": "LP0LXG7tgub4"
      },
      "execution_count": 14,
      "outputs": []
    },
    {
      "cell_type": "code",
      "source": [
        "for row in column_data[1:]:\n",
        "    row_data = row.find_all('td')\n",
        "    individual_row_data = [data.text.strip() for data in row_data]\n",
        "\n",
        "    length = len(df)\n",
        "    df.loc[length] = individual_row_data\n"
      ],
      "metadata": {
        "id": "GGewzDjQjguU"
      },
      "execution_count": 15,
      "outputs": []
    },
    {
      "cell_type": "code",
      "source": [
        "df"
      ],
      "metadata": {
        "id": "dYSu3BXlnCFN"
      },
      "execution_count": null,
      "outputs": []
    }
  ]
}